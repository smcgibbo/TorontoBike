{
 "cells": [
  {
   "cell_type": "markdown",
   "metadata": {},
   "source": [
    "# Use Toronto neihgbourhood data to generate meaningful location data for bikeshare locations"
   ]
  },
  {
   "cell_type": "code",
   "execution_count": 3,
   "metadata": {},
   "outputs": [
    {
     "name": "stdout",
     "output_type": "stream",
     "text": [
      "[{'cache_last_updated': None, 'package_id': '4def3f65-2a65-4a4f-83c4-b2a4aed72d46', 'datastore_active': True, 'id': 'a083c865-6d60-4d1d-b6c6-b0c8a85f9c15', 'size': None, 'format': 'GeoJSON', 'state': 'active', 'hash': '', 'description': '', 'is_preview': True, 'last_modified': '2021-03-15T10:20:08.000096', 'url_type': 'datastore', 'mimetype': None, 'cache_url': None, 'extract_job': 'B1_Neighbourhoods', 'name': 'Neighbourhoods', 'created': '2019-07-23T17:47:39.596503', 'url': 'https://ckan0.cf.opendata.inter.prod-toronto.ca/datastore/dump/a083c865-6d60-4d1d-b6c6-b0c8a85f9c15', 'mimetype_inner': None, 'position': 0, 'revision_id': '93224426-867b-4646-9c91-9fdce1f0247d', 'resource_type': None}]\n",
      "     _id  AREA_ID  AREA_ATTR_ID PARENT_AREA_ID AREA_SHORT_CODE AREA_LONG_CODE  \\\n",
      "0  11481  2480141      26005521           None             096            096   \n",
      "1  11482  2480140      26005520           None             095            095   \n",
      "2  11483  2480139      26005519           None             109            109   \n",
      "3  11484  2480064      26005444           None             064            064   \n",
      "4  11485  2480063      26005443           None             103            103   \n",
      "\n",
      "                   AREA_NAME                  AREA_DESC     X     Y LONGITUDE  \\\n",
      "0             Casa Loma (96)             Casa Loma (96)  None  None      None   \n",
      "1                 Annex (95)                 Annex (95)  None  None      None   \n",
      "2   Caledonia-Fairbank (109)   Caledonia-Fairbank (109)  None  None      None   \n",
      "3     Woodbine Corridor (64)     Woodbine Corridor (64)  None  None      None   \n",
      "4  Lawrence Park South (103)  Lawrence Park South (103)  None  None      None   \n",
      "\n",
      "  LATITUDE  OBJECTID   Shape__Area  Shape__Length  \\\n",
      "0     None  17545105  3.678385e+06    8214.176485   \n",
      "1     None  17545121  5.337192e+06   10513.883143   \n",
      "2     None  17545137  2.955857e+06    6849.911724   \n",
      "3     None  17545153  3.052518e+06    7512.966773   \n",
      "4     None  17545169  6.211341e+06   13530.370002   \n",
      "\n",
      "                                            geometry CLASSIFICATION  \\\n",
      "0  {\"type\": \"Polygon\", \"coordinates\": [[[-79.4146...           None   \n",
      "1  {\"type\": \"Polygon\", \"coordinates\": [[[-79.3941...           None   \n",
      "2  {\"type\": \"Polygon\", \"coordinates\": [[[-79.4602...           None   \n",
      "3  {\"type\": \"Polygon\", \"coordinates\": [[[-79.3148...           None   \n",
      "4  {\"type\": \"Polygon\", \"coordinates\": [[[-79.4109...           None   \n",
      "\n",
      "  CLASSIFICATION_CODE  \n",
      "0                None  \n",
      "1                None  \n",
      "2                None  \n",
      "3                None  \n",
      "4                None  \n",
      "(140, 18)\n"
     ]
    }
   ],
   "source": [
    "import pandas as pd\n",
    "import geopandas as gpd\n",
    "#import geoplot as gplt\n",
    "#import geoplot.crs as gcrs\n",
    "import matplotlib.pyplot as plt\n",
    "import requests\n",
    "import json\n",
    "from shapely.geometry import shape\n",
    "\n",
    "# Get the dataset metadata by passing package_id to the package_search endpoint\n",
    "# For example, to retrieve the metadata for this dataset:\n",
    "\n",
    "url = \"https://ckan0.cf.opendata.inter.prod-toronto.ca/api/3/action/package_show\"\n",
    "params = { \"id\": \"4def3f65-2a65-4a4f-83c4-b2a4aed72d46\"}\n",
    "package = requests.get(url, params = params).json()\n",
    "\n",
    "url = package[\"result\"][\"resources\"][0]['url']\n",
    "print(package[\"result\"]['resources'])\n",
    "# Get the data by passing the resource_id to the datastore_search endpoint\n",
    "# See https://docs.ckan.org/en/latest/maintaining/datastore.html for detailed parameters options\n",
    "# For example, to retrieve the data content for the first resource in the datastore:\n",
    "\n",
    "for idx, resource in enumerate(package[\"result\"][\"resources\"]):\n",
    "    #print(resource)\n",
    "    if resource[\"datastore_active\"]:\n",
    "        url = \"https://ckan0.cf.opendata.inter.prod-toronto.ca/api/3/action/datastore_search\"\n",
    "        p = { \"id\": resource[\"id\"], \"limit\": 32000 }\n",
    "        data = requests.get(url, params = p).json()\n",
    "        #print(data)\n",
    "        df = pd.DataFrame(data[\"result\"][\"records\"])\n",
    "        break\n",
    "print(df.head())      \n",
    "#define function to parse the geometry column\n",
    "#This is not extremely efficient but I can't figure out how another work around \n",
    "#besides downloading the JSON file and useing gpd.read_file\n",
    "def parse_geom(geom_str):\n",
    "    return shape(json.loads(geom_str))\n",
    "    try:\n",
    "        return shape(json.loads(geom_str))\n",
    "    except (TypeError, AttributeError):  # Handle NaN and empty strings\n",
    "        return None\n",
    "#assign the function to the correct column\n",
    "df[\"geometry\"] = df[\"geometry\"].apply(parse_geom)\n",
    "\n",
    "#turn this into a geopandas dataframe\n",
    "gdf = gpd.GeoDataFrame(df, geometry=\"geometry\")"
   ]
  },
  {
   "cell_type": "code",
   "execution_count": 5,
   "metadata": {},
   "outputs": [
    {
     "ename": "ValueError",
     "evalue": "The GeoSeries already has a CRS which is not equal to the passed CRS. Specify 'allow_override=True' to allow replacing the existing CRS without doing any transformation. If you actually want to transform the geometries, use 'GeoSeries.to_crs' instead.",
     "output_type": "error",
     "traceback": [
      "\u001b[0;31m---------------------------------------------------------------------------\u001b[0m",
      "\u001b[0;31mValueError\u001b[0m                                Traceback (most recent call last)",
      "\u001b[0;32m/var/folders/dn/04g6byx9373c9f7fd519h2640000gn/T/ipykernel_43975/3081206327.py\u001b[0m in \u001b[0;36m<module>\u001b[0;34m\u001b[0m\n\u001b[1;32m      1\u001b[0m \u001b[0;32mimport\u001b[0m \u001b[0mcontextily\u001b[0m \u001b[0;32mas\u001b[0m \u001b[0mcx\u001b[0m\u001b[0;31m#for adding base map\u001b[0m\u001b[0;34m\u001b[0m\u001b[0;34m\u001b[0m\u001b[0m\n\u001b[1;32m      2\u001b[0m \u001b[0;34m\u001b[0m\u001b[0m\n\u001b[0;32m----> 3\u001b[0;31m \u001b[0mgdf\u001b[0m \u001b[0;34m=\u001b[0m \u001b[0mgdf\u001b[0m\u001b[0;34m.\u001b[0m\u001b[0mset_crs\u001b[0m\u001b[0;34m(\u001b[0m\u001b[0;34m\"EPSG:4326\"\u001b[0m\u001b[0;34m)\u001b[0m\u001b[0;34m\u001b[0m\u001b[0;34m\u001b[0m\u001b[0m\n\u001b[0m\u001b[1;32m      4\u001b[0m \u001b[0mgdf\u001b[0m \u001b[0;34m=\u001b[0m \u001b[0mgdf\u001b[0m\u001b[0;34m.\u001b[0m\u001b[0mto_crs\u001b[0m\u001b[0;34m(\u001b[0m\u001b[0mepsg\u001b[0m\u001b[0;34m=\u001b[0m\u001b[0;36m3857\u001b[0m\u001b[0;34m)\u001b[0m\u001b[0;31m# alternatively you can use the crs paramter in add_basemap to change that id hte dataset is too large\u001b[0m\u001b[0;34m\u001b[0m\u001b[0;34m\u001b[0m\u001b[0m\n\u001b[1;32m      5\u001b[0m \u001b[0max\u001b[0m \u001b[0;34m=\u001b[0m \u001b[0mgdf\u001b[0m\u001b[0;34m.\u001b[0m\u001b[0mplot\u001b[0m\u001b[0;34m(\u001b[0m\u001b[0mfigsize\u001b[0m\u001b[0;34m=\u001b[0m\u001b[0;34m(\u001b[0m\u001b[0;36m40\u001b[0m\u001b[0;34m,\u001b[0m\u001b[0;36m20\u001b[0m\u001b[0;34m)\u001b[0m\u001b[0;34m,\u001b[0m \u001b[0mcolor\u001b[0m \u001b[0;34m=\u001b[0m \u001b[0;34m'g'\u001b[0m\u001b[0;34m,\u001b[0m \u001b[0malpha\u001b[0m \u001b[0;34m=\u001b[0m \u001b[0;36m0.25\u001b[0m\u001b[0;34m,\u001b[0m \u001b[0medgecolor\u001b[0m \u001b[0;34m=\u001b[0m \u001b[0;34m'k'\u001b[0m\u001b[0;34m)\u001b[0m\u001b[0;34m\u001b[0m\u001b[0;34m\u001b[0m\u001b[0m\n",
      "\u001b[0;32m~/opt/anaconda3/envs/pygeo/lib/python3.8/site-packages/geopandas/geodataframe.py\u001b[0m in \u001b[0;36mset_crs\u001b[0;34m(self, crs, epsg, inplace, allow_override)\u001b[0m\n\u001b[1;32m   1188\u001b[0m         \u001b[0;32melse\u001b[0m\u001b[0;34m:\u001b[0m\u001b[0;34m\u001b[0m\u001b[0;34m\u001b[0m\u001b[0m\n\u001b[1;32m   1189\u001b[0m             \u001b[0mdf\u001b[0m \u001b[0;34m=\u001b[0m \u001b[0mself\u001b[0m\u001b[0;34m\u001b[0m\u001b[0;34m\u001b[0m\u001b[0m\n\u001b[0;32m-> 1190\u001b[0;31m         df.geometry = df.geometry.set_crs(\n\u001b[0m\u001b[1;32m   1191\u001b[0m             \u001b[0mcrs\u001b[0m\u001b[0;34m=\u001b[0m\u001b[0mcrs\u001b[0m\u001b[0;34m,\u001b[0m \u001b[0mepsg\u001b[0m\u001b[0;34m=\u001b[0m\u001b[0mepsg\u001b[0m\u001b[0;34m,\u001b[0m \u001b[0mallow_override\u001b[0m\u001b[0;34m=\u001b[0m\u001b[0mallow_override\u001b[0m\u001b[0;34m,\u001b[0m \u001b[0minplace\u001b[0m\u001b[0;34m=\u001b[0m\u001b[0;32mTrue\u001b[0m\u001b[0;34m\u001b[0m\u001b[0;34m\u001b[0m\u001b[0m\n\u001b[1;32m   1192\u001b[0m         )\n",
      "\u001b[0;32m~/opt/anaconda3/envs/pygeo/lib/python3.8/site-packages/geopandas/geoseries.py\u001b[0m in \u001b[0;36mset_crs\u001b[0;34m(self, crs, epsg, inplace, allow_override)\u001b[0m\n\u001b[1;32m   1028\u001b[0m \u001b[0;34m\u001b[0m\u001b[0m\n\u001b[1;32m   1029\u001b[0m         \u001b[0;32mif\u001b[0m \u001b[0;32mnot\u001b[0m \u001b[0mallow_override\u001b[0m \u001b[0;32mand\u001b[0m \u001b[0mself\u001b[0m\u001b[0;34m.\u001b[0m\u001b[0mcrs\u001b[0m \u001b[0;32mis\u001b[0m \u001b[0;32mnot\u001b[0m \u001b[0;32mNone\u001b[0m \u001b[0;32mand\u001b[0m \u001b[0;32mnot\u001b[0m \u001b[0mself\u001b[0m\u001b[0;34m.\u001b[0m\u001b[0mcrs\u001b[0m \u001b[0;34m==\u001b[0m \u001b[0mcrs\u001b[0m\u001b[0;34m:\u001b[0m\u001b[0;34m\u001b[0m\u001b[0;34m\u001b[0m\u001b[0m\n\u001b[0;32m-> 1030\u001b[0;31m             raise ValueError(\n\u001b[0m\u001b[1;32m   1031\u001b[0m                 \u001b[0;34m\"The GeoSeries already has a CRS which is not equal to the passed \"\u001b[0m\u001b[0;34m\u001b[0m\u001b[0;34m\u001b[0m\u001b[0m\n\u001b[1;32m   1032\u001b[0m                 \u001b[0;34m\"CRS. Specify 'allow_override=True' to allow replacing the existing \"\u001b[0m\u001b[0;34m\u001b[0m\u001b[0;34m\u001b[0m\u001b[0m\n",
      "\u001b[0;31mValueError\u001b[0m: The GeoSeries already has a CRS which is not equal to the passed CRS. Specify 'allow_override=True' to allow replacing the existing CRS without doing any transformation. If you actually want to transform the geometries, use 'GeoSeries.to_crs' instead."
     ]
    }
   ],
   "source": [
    "import contextily as cx#for adding base map\n",
    "\n",
    "#turn this into a geopandas dataframe\n",
    "gdf = gpd.GeoDataFrame(df, geometry=\"geometry\")\n",
    "#set coordinates system\n",
    "gdf = gdf.set_crs(\"EPSG:4326\")\n",
    "gdf = gdf.to_crs(epsg=3857)# alternatively you can use the crs paramter in add_basemap to change that id hte dataset is too large\n",
    "ax = gdf.plot(figsize=(40,20), color = 'g', alpha = 0.25, edgecolor = 'k')\n",
    "cx.add_basemap(ax,zoom = 11, source=cx.providers.CartoDB.Voyager)\n"
   ]
  },
  {
   "cell_type": "code",
   "execution_count": null,
   "metadata": {},
   "outputs": [],
   "source": []
  }
 ],
 "metadata": {
  "kernelspec": {
   "display_name": "Python 3 (ipykernel)",
   "language": "python",
   "name": "python3"
  },
  "language_info": {
   "codemirror_mode": {
    "name": "ipython",
    "version": 3
   },
   "file_extension": ".py",
   "mimetype": "text/x-python",
   "name": "python",
   "nbconvert_exporter": "python",
   "pygments_lexer": "ipython3",
   "version": "3.8.12"
  }
 },
 "nbformat": 4,
 "nbformat_minor": 4
}
