{
 "cells": [
  {
   "cell_type": "markdown",
   "metadata": {},
   "source": [
    "# This is a visualization of usage over time fo the Toronto Bike data available through Open Data from the City of Toronto"
   ]
  },
  {
   "cell_type": "markdown",
   "metadata": {},
   "source": [
    "## Historical data can be found: https://open.toronto.ca/dataset/bike-share-toronto-ridership-data/"
   ]
  },
  {
   "cell_type": "code",
   "execution_count": 46,
   "metadata": {},
   "outputs": [
    {
     "name": "stdout",
     "output_type": "stream",
     "text": [
      "Available Datasets\n",
      "\n",
      "name\t format\t\t size\t\t ID\n",
      "----------------------------------------------------------------------------------\n",
      "bikeshare-ridership-readme XLSX 16625 a1a0ee42-caf5-4395-abbc-58925c7434dd\n",
      "bikeshare-ridership-2014-q4-2015-q3 XLSX 1465200 f931a332-09de-494b-afb0-c811c6ec4043\n",
      "bikeshare-ridership-2016-q3 XLSX 18885816 34c07f2a-abde-4d4f-9ee6-267a312f68e6\n",
      "bikeshare-ridership-2016-q4 XLSX 9822853 fe1fc5c4-ba3e-480e-ad70-db5dc3097242\n",
      "bikeshare-ridership-2017 ZIP 24484084 3bcb847b-bf1e-43a6-a385-8afef74ee840\n",
      "Bike Share Ridership 2018 ZIP 34011563 81ea3260-057a-4e62-ae45-1f40191a8229\n",
      "Bike Share Ridership 2019  ZIP 324112878 f57f20db-8353-44f7-ab61-d499ac1b31c1\n",
      "Bike share ridership 2020 ZIP 389354150 5f5d78c4-d810-4048-9dac-c18273abffac\n",
      "Bike share ridership 2021-01 CSV 11528928 d4a7b25c-edd0-4c1b-954a-79b6559477c4\n",
      "Bike share ridership 2021-02 CSV 7835416 d4a5ef48-2006-4e2b-b9a9-d6791ea04004\n",
      "Bike share ridership 2021-03 CSV 21013317 9ab4727e-06e4-402b-a467-f411f03ffb66\n",
      "Bike share ridership 2021-04 CSV 30120343 1335c9d8-b14a-4c08-b897-cb0c861622ab\n",
      "Bike share ridership 2021-05 CSV 57259289 e74d6b32-faa4-436c-9814-56045c768c66\n",
      "Bike share ridership 2021-06 CSV 60726800 015d8b93-d476-4464-8465-c837a6ffc757\n",
      "Bike share ridership 2021-07 CSV 62034209 dbfa21b0-1fd6-401c-8d66-a90aedf7e80f\n",
      "Bike share ridership 2021-08 CSV 66277332 8e4bc215-8a3e-4885-bf41-7241a37c76f0\n",
      "Bike share ridership 2021-09 CSV 60544157 c1077de0-65e7-47ee-848b-02b42da42c35\n",
      "Bike share ridership 2021-10 CSV 48634963 6240ed2a-23e4-40e3-9318-6756b6b12401\n",
      "Bike share ridership 2021-11 CSV 32110555 3fc0bd1d-8e36-4b19-97d8-0ce3ccb64aad\n",
      "Bike share ridership 2021-12 CSV 19216744 543e93b0-4ba5-401d-baaf-61eb4249a5bf\n",
      "<class 'bytes'>\n"
     ]
    }
   ],
   "source": [
    "import pandas as pd\n",
    "import requests\n",
    "\t\n",
    "url = \"https://ckan0.cf.opendata.inter.prod-toronto.ca/api/3/action/package_show\"\n",
    "params = { \"id\": \"7e876c24-177c-4605-9cef-e50dd74c617f\"}\n",
    "package = requests.get(url, params = params).json()\n",
    "#print(package[\"result\"]['resources'][0])\n",
    "print(\"Available Datasets\\n\")\n",
    "print(\"name\\t\", \"format\\t\\t\", \"size\\t\\t\", \"ID\")\n",
    "print(\"----------------------------------------------------------------------------------\")\n",
    "for d in (package[\"result\"]['resources']):\n",
    "    print(d['name'], d[\"format\"], d['size'],d['id'])\n",
    "\n",
    "#incorrect accessing of dataset Bike share ridership 2021-01\n",
    "url = \"https://ckan0.cf.opendata.inter.prod-toronto.ca/dataset/7e876c24-177c-4605-9cef-e50dd74c617f/resource/d4a7b25c-edd0-4c1b-954a-79b6559477c4/download/2021-01.csv\"\n",
    "params = { \"pkg\": \"7e876c24-177c-4605-9cef-e50dd74c617f\", \"res\":\"d4a7b25c-edd0-4c1b-954a-79b6559477c4\"}\n",
    "data = requests.get(url).content\n",
    "print(type(data))\n",
    "#requests.get(url).content"
   ]
  },
  {
   "cell_type": "code",
   "execution_count": null,
   "metadata": {},
   "outputs": [],
   "source": []
  }
 ],
 "metadata": {
  "kernelspec": {
   "display_name": "Python 3",
   "language": "python",
   "name": "python3"
  },
  "language_info": {
   "codemirror_mode": {
    "name": "ipython",
    "version": 3
   },
   "file_extension": ".py",
   "mimetype": "text/x-python",
   "name": "python",
   "nbconvert_exporter": "python",
   "pygments_lexer": "ipython3",
   "version": "3.8.3"
  }
 },
 "nbformat": 4,
 "nbformat_minor": 4
}
